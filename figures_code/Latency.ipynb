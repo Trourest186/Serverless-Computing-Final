{
 "cells": [
  {
   "cell_type": "code",
   "execution_count": 1,
   "metadata": {},
   "outputs": [],
   "source": [
    "import matplotlib.pyplot as plot\n",
    "import csv\n",
    "import numpy as np\n",
    "import random\n",
    "import scipy.stats\n",
    "\n",
    "# Calculate z-value for 90% confidence interval\n",
    "confidence_level = 0.9\n",
    "z_value = scipy.stats.norm.ppf((1 + confidence_level) / 2)  # For 90% confidence interval"
   ]
  },
  {
   "cell_type": "code",
   "execution_count": 13,
   "metadata": {},
   "outputs": [],
   "source": [
    "# mean\n",
    "mean_time_pod = [] \n",
    "mean_time_container= [] \n",
    "mean_time_process = [] \n",
    "# std\n",
    "std_time_pod = [] \n",
    "std_time_container = [] \n",
    "std_time_process = [] "
   ]
  },
  {
   "cell_type": "code",
   "execution_count": 4,
   "metadata": {},
   "outputs": [
    {
     "name": "stdout",
     "output_type": "stream",
     "text": [
      "[0.024518129999999996, 0.012631314999999999, 0.011850916666666666]\n",
      "[0.010910785346938229, 0.0007523857404501697, 0.0004779561952828515]\n"
     ]
    }
   ],
   "source": [
    "# Multiple pod\n",
    "\n",
    "one_pod = \"/home/kien/kiem/serverless-giang/data/curl/mec/x86_pod_1_rep_1_1612024_10h57.csv\"\n",
    "two_pod = \"/home/kien/kiem/serverless-giang/data/curl/mec/x86_pod_2_rep_1_1612024_11h2.csv\"\n",
    "third_pod = \"/home/kien/kiem/serverless-giang/data/curl/mec/x86_pod_3_rep_1_1612024_11h6.csv\" # Default\n",
    "\n",
    "file_list = []\n",
    "file_list.append(one_pod)\n",
    "file_list.append(two_pod)\n",
    "file_list.append(third_pod)\n",
    "\n",
    "average_time_cpu_to_active = []\n",
    "\n",
    "for file in file_list:\n",
    "    average_time = [] \n",
    "    time_cpu_to_active = []\n",
    "    with open(file, newline='') as csvfile:\n",
    "        spamreader = csv.reader(csvfile, delimiter=',', quotechar='|')\n",
    "        for row in spamreader:\n",
    "            if row[7] == \"warm_cpu_to_active_process\":\n",
    "                time_cpu_to_active.append(float(row[6])/2)\n",
    "        average_time_cpu_to_active.append(time_cpu_to_active)\n",
    "    mean_time_pod.append(np.mean(time_cpu_to_active))\n",
    "    std_time_pod.append(np.std(time_cpu_to_active)/np.sqrt(len(time_cpu_to_active)))\n",
    "\n",
    "print(mean_time_pod)\n",
    "print(std_time_pod)"
   ]
  },
  {
   "cell_type": "code",
   "execution_count": 5,
   "metadata": {},
   "outputs": [
    {
     "name": "stdout",
     "output_type": "stream",
     "text": [
      "Hello\n",
      "Hello\n",
      "Hello\n",
      "[0.0016538499999999997, 0.0018527150000000004, 0.00193487]\n",
      "[3.892569138756562e-05, 3.6050342061483964e-05, 3.407722029287144e-05]\n"
     ]
    }
   ],
   "source": [
    "# Multiple container\n",
    "\n",
    "one_container = \"/home/kien/kiem/serverless-giang/data/curl/mec/x86_pod_1_rep_1_1612024_11h35.csv\"\n",
    "two_container = \"/home/kien/kiem/serverless-giang/data/curl/mec/x86_pod_1_rep_1_1612024_11h39.csv\"\n",
    "third_container = \"/home/kien/kiem/serverless-giang/data/curl/mec/x86_pod_1_rep_1_1612024_11h44.csv\" # Default\n",
    "\n",
    "file_list = []\n",
    "file_list.append(one_container)\n",
    "file_list.append(two_container)\n",
    "file_list.append(third_container)\n",
    "\n",
    "average_time_cpu_to_active = []\n",
    "\n",
    "for file in file_list:\n",
    "    print(\"Hello\")\n",
    "    average_time = [] \n",
    "    time_cpu_to_active = []\n",
    "    with open(file, newline='') as csvfile:\n",
    "        spamreader = csv.reader(csvfile, delimiter=',', quotechar='|')\n",
    "        for row in spamreader:\n",
    "            if row[7] == \"warm_cpu_to_active_process\":\n",
    "                time_cpu_to_active.append(float(row[6])/2)\n",
    "        average_time_cpu_to_active.append(time_cpu_to_active)\n",
    "    mean_time_container.append(np.mean(time_cpu_to_active))\n",
    "    std_time_container.append(np.std(time_cpu_to_active)/np.sqrt(len(time_cpu_to_active)))\n",
    "\n",
    "\n",
    "print(mean_time_container)\n",
    "print(std_time_container)"
   ]
  },
  {
   "cell_type": "code",
   "execution_count": 11,
   "metadata": {},
   "outputs": [
    {
     "name": "stdout",
     "output_type": "stream",
     "text": [
      "Hello\n",
      "Hello\n",
      "Hello\n",
      "Hello\n",
      "Hello\n",
      "Hello\n",
      "Hello\n",
      "Hello\n",
      "Hello\n",
      "0.0010529036990046994\n",
      "4.5778085777049125\n"
     ]
    }
   ],
   "source": [
    "# Multiple container\n",
    "import matplotlib.pyplot as plot\n",
    "import csv\n",
    "import numpy as np\n",
    "import random\n",
    "import scipy.stats\n",
    "\n",
    "# Calculate z-value for 90% confidence interval\n",
    "confidence_level = 0.9\n",
    "z_value = scipy.stats.norm.ppf((1 + confidence_level) / 2)  # For 90% confidence interval\n",
    "\n",
    "mean_time_container = []\n",
    "\n",
    "one_container = \"/home/kien/kiem/serverless-giang/data/curl/mec/x86_pod_1_rep_{}_1612024_12h2.csv\"\n",
    "result = []\n",
    "for i in range(1,10,1):\n",
    "\n",
    "    file_list = []\n",
    "    file_list.append(one_container.format(i))\n",
    "\n",
    "\n",
    "    average_time_cpu_to_active = []\n",
    "\n",
    "    for file in file_list:\n",
    "        print(\"Hello\")\n",
    "        average_time = [] \n",
    "        time_cpu_to_active = []\n",
    "        with open(file, newline='') as csvfile:\n",
    "            spamreader = csv.reader(csvfile, delimiter=',', quotechar='|')\n",
    "            for row in spamreader:\n",
    "                if row[7] == \"warm_cpu_to_active_process\":\n",
    "                    time_cpu_to_active.append(float(row[6])/2)\n",
    "            average_time_cpu_to_active.append(time_cpu_to_active)\n",
    "        mean_time_container.append(np.mean(time_cpu_to_active))\n",
    "\n",
    "\n",
    "std = np.std(mean_time_container)/np.sqrt(len((mean_time_container)))\n",
    "result = np.mean(mean_time_container)\n",
    "\n",
    "print(std)\n",
    "print(result*1000*z_value)"
   ]
  },
  {
   "cell_type": "code",
   "execution_count": 14,
   "metadata": {},
   "outputs": [
    {
     "name": "stdout",
     "output_type": "stream",
     "text": [
      "[0.01256956, 0.015163610000000001, 0.012522236666666665]\n",
      "[0.0013102390285470815, 0.0012294944163268899, 0.0006435319880972278]\n"
     ]
    }
   ],
   "source": [
    "# Multiple process\n",
    "\n",
    "# one_process = \"/home/kien/kiem/serverless-giang/data/curl/mec/x86_pod_1_rep_1_31122023_18h28.csv\"\n",
    "# two_process = \"/home/kien/kiem/serverless-giang/data/curl/mec/x86_pod_1_rep_1_112024_3h49.csv\"\n",
    "# third_process = \"/home/kien/kiem/serverless-giang/data/curl/mec/x86_pod_1_rep_1_112024_3h57.csv\" # Default\n",
    "one_process = \"/home/kien/kiem/serverless-giang/data/curl/mec/temp/x86_pod_1_rep_1_1612024_11h14.csv\"\n",
    "two_process = \"/home/kien/kiem/serverless-giang/data/curl/mec/temp/x86_pod_1_rep_1_1612024_11h18.csv\"\n",
    "third_process = \"/home/kien/kiem/serverless-giang/data/curl/mec/temp/x86_pod_1_rep_1_1612024_11h25.csv\" # Default\n",
    "\n",
    "\n",
    "file_list = []\n",
    "file_list.append(one_process)\n",
    "file_list.append(two_process)\n",
    "file_list.append(third_process)\n",
    "\n",
    "average_time_cpu_to_active = []\n",
    "\n",
    "for file in file_list:\n",
    "    average_time = [] \n",
    "    time_cpu_to_active = []\n",
    "    with open(file, newline='') as csvfile:\n",
    "        spamreader = csv.reader(csvfile, delimiter=',', quotechar='|')\n",
    "        for row in spamreader:\n",
    "            if row[7] == \"warm_cpu_to_active_process\":\n",
    "                time_cpu_to_active.append(float(row[6])/2)\n",
    "        average_time_cpu_to_active.append(time_cpu_to_active)\n",
    "    mean_time_process.append(np.mean(time_cpu_to_active))\n",
    "    std_time_process.append(np.std(time_cpu_to_active)/np.sqrt(len(time_cpu_to_active)))\n",
    "\n",
    "print(mean_time_process)\n",
    "print(std_time_process)"
   ]
  },
  {
   "cell_type": "code",
   "execution_count": 15,
   "metadata": {},
   "outputs": [
    {
     "name": "stderr",
     "output_type": "stream",
     "text": [
      "<>:1: SyntaxWarning: 'float' object is not callable; perhaps you missed a comma?\n",
      "<>:1: SyntaxWarning: 'float' object is not callable; perhaps you missed a comma?\n",
      "/tmp/ipykernel_450812/1658982459.py:1: SyntaxWarning: 'float' object is not callable; perhaps you missed a comma?\n",
      "  x = 0.0013102390285470815(z_value*10000)\n",
      "/tmp/ipykernel_450812/1658982459.py:1: SyntaxWarning: 'float' object is not callable; perhaps you missed a comma?\n",
      "  x = 0.0013102390285470815(z_value*10000)\n",
      "/tmp/ipykernel_450812/1658982459.py:1: SyntaxWarning: 'float' object is not callable; perhaps you missed a comma?\n",
      "  x = 0.0013102390285470815(z_value*10000)\n"
     ]
    },
    {
     "ename": "TypeError",
     "evalue": "'float' object is not callable",
     "output_type": "error",
     "traceback": [
      "\u001b[0;31m---------------------------------------------------------------------------\u001b[0m",
      "\u001b[0;31mTypeError\u001b[0m                                 Traceback (most recent call last)",
      "Cell \u001b[0;32mIn[15], line 1\u001b[0m\n\u001b[0;32m----> 1\u001b[0m x \u001b[38;5;241m=\u001b[39m \u001b[38;5;241;43m0.0013102390285470815\u001b[39;49m\u001b[43m(\u001b[49m\u001b[43mz_value\u001b[49m\u001b[38;5;241;43m*\u001b[39;49m\u001b[38;5;241;43m10000\u001b[39;49m\u001b[43m)\u001b[49m\n\u001b[1;32m      2\u001b[0m \u001b[38;5;28mprint\u001b[39m(x)\n",
      "\u001b[0;31mTypeError\u001b[0m: 'float' object is not callable"
     ]
    }
   ],
   "source": [
    "x = 0.0013102390285470815*z_value*1000\n",
    "print(x)"
   ]
  },
  {
   "cell_type": "code",
   "execution_count": 7,
   "metadata": {},
   "outputs": [
    {
     "name": "stdout",
     "output_type": "stream",
     "text": [
      "[40.328735056567695, 20.776664290916536, 19.493023261866316]\n",
      "[2.720341170933692, 3.0474449874573972, 3.182577937179595]\n",
      "[20.67508635518415, 24.941918906177616, 20.59724639871138]\n",
      "[17.946644850800325, 1.2375644140460305, 0.7861679813349244]\n",
      "[0.064027064660431, 0.05929753589267311, 0.0560520393951539]\n",
      "[2.1551514182790403, 2.0223383500118683, 1.0585159246810167]\n"
     ]
    },
    {
     "data": {
      "image/png": "[encoded data removed]",
      "text/plain": [
       "<Figure size 640x480 with 1 Axes>"
      ]
     },
     "metadata": {},
     "output_type": "display_data"
    }
   ],
   "source": [
    "# data\n",
    "data_time_pod = [value*1000 for value in mean_time_pod]\n",
    "data_time_container = [value*z_value*1000 for value in mean_time_container]\n",
    "data_time_process = [value*z_value*1000 for value in mean_time_process]\n",
    "\n",
    "print(data_time_pod)\n",
    "print(data_time_container)\n",
    "print(data_time_process)\n",
    "\n",
    "error_time_pod = [value*z_value*1000 for value in std_time_pod]\n",
    "error_time_container = [value*z_value*1000 for value in std_time_container]\n",
    "error_time_process = [value*z_value*1000 for value in std_time_process]\n",
    "\n",
    "\n",
    "print(error_time_pod)\n",
    "print(error_time_container)\n",
    "print(error_time_process)\n",
    "pod = ['1 (MEC)', '2 (MEC)', '3 (MEC)']\n",
    "\n",
    "plot.errorbar(pod, data_time_pod, color = 'r', label = 'pod', yerr=error_time_pod, alpha=0.9, marker='o', ecolor='black', capsize=3 )\n",
    "plot.errorbar(pod, data_time_container, color = 'g', label = 'container', yerr=error_time_container, alpha=0.9,  marker='o', ecolor='black', capsize=3 )\n",
    "plot.errorbar(pod, data_time_process, color = 'b', label = 'process', yerr=error_time_process, alpha=0.9,  marker='o', ecolor='black', capsize=3 )\n",
    "\n",
    "# plot.plot(pod, data_time_pod, color = 'r', label = 'pod' )\n",
    "# plot.plot(pod, data_time_container, color = 'g', label = 'container')\n",
    "# plot.plot(pod, data_time_wifi, color = 'b', label = 'wifi')\n",
    "plot.ylabel('Time (ms)')\n",
    "plot.xlabel(\"Number of entity\", fontsize = 10)\n",
    "plot.title(\"Warm CPU to Active\")\n",
    "# plot.savefig('/home/core/datn/pdf/warm_cpu_to_active.png', bbox_inches='tight')\n",
    "plot.legend(loc='best')\n",
    "plot.show()\n"
   ]
  },
  {
   "cell_type": "code",
   "execution_count": 49,
   "metadata": {},
   "outputs": [
    {
     "data": {
      "image/png": "[encoded data removed]",
      "text/plain": [
       "<Figure size 600x400 with 1 Axes>"
      ]
     },
     "metadata": {},
     "output_type": "display_data"
    }
   ],
   "source": [
    "import matplotlib.pyplot as plt\n",
    "\n",
    "fig, ax = plt.subplots(figsize=(6, 4))\n",
    "x = [1, 2, 3, 4, 5]\n",
    "y1 = [1, 4, 9, 16, 25]\n",
    "y2 = [1, 8, 27, 64, 125]\n",
    "\n",
    "# Vẽ hai đường\n",
    "ax.plot(x, y1, label='Đường màu đỏ')\n",
    "ax.plot(x, y2, label='Đường màu xanh')\n",
    "\n",
    "# Tạo ô vuông chú thích\n",
    "ax.legend(loc='upper right', bbox_to_anchor=(1.05, 0.95))\n",
    "\n",
    "plt.show()\n"
   ]
  }
 ],
 "metadata": {
  "kernelspec": {
   "display_name": "Python 3",
   "language": "python",
   "name": "python3"
  },
  "language_info": {
   "codemirror_mode": {
    "name": "ipython",
    "version": 3
   },
   "file_extension": ".py",
   "mimetype": "text/x-python",
   "name": "python",
   "nbconvert_exporter": "python",
   "pygments_lexer": "ipython3",
   "version": "3.8.10"
  },
  "orig_nbformat": 4
 },
 "nbformat": 4,
 "nbformat_minor": 2
}
