{
 "cells": [
  {
   "cell_type": "code",
   "execution_count": 2,
   "metadata": {},
   "outputs": [],
   "source": [
    "from collections import defaultdict\n",
    "import csv\n",
    "import numpy as np\n",
    "import matplotlib.pyplot as plt\n",
    "import pandas as pd"
   ]
  },
  {
   "cell_type": "code",
   "execution_count": 3,
   "metadata": {},
   "outputs": [
    {
     "name": "stdout",
     "output_type": "stream",
     "text": [
      "D:\\FIL\\DATN\\Data\\server\\data_prom_target_pod_1_repeat_time_1_video_4K_video_59s.webm_server_5_7_2022_3h36.csv\n"
     ]
    }
   ],
   "source": [
    "TIME_SECONDS = \"time_seconds\"\n",
    "DATE_TIME = \"date_time\"\n",
    "POD_NUM = \"pod_num\"\n",
    "CPU_PER = \"cpu_%\"\n",
    "RAM_PER = \"ram_%\"\n",
    "POD_STATE = \"pod_state\"\n",
    "\n",
    "data_directory = \"D:\\FIL\\DATN\\Data\"\n",
    "folder = \"server\"\n",
    "filename = \"data_prom_target_pod_1_repeat_time_1_video_4K_video_59s.webm_server_5_7_2022_3h36.csv\"\n",
    "\n",
    "file_directory = data_directory + \"\\\\\" + folder +\"\\\\\" + filename\n",
    "print(file_directory)"
   ]
  },
  {
   "cell_type": "code",
   "execution_count": 4,
   "metadata": {},
   "outputs": [
    {
     "name": "stdout",
     "output_type": "stream",
     "text": [
      "defaultdict(<class 'list'>, {'cold': [10.337500000005093], 'cold_to_warm': [13.259999999965663], 'cold_to_warm:terminating': [8.182692307683276], 'warm': [8.696875000001455], 'active': [76.26849073587832], 'active:terminating': [77.17978233495535], 'delete': [12.666068641199843]})\n"
     ]
    }
   ],
   "source": [
    "#   read file and add header\n",
    "data_pd = pd.read_csv(file_directory, sep=',', names=[TIME_SECONDS, DATE_TIME, POD_NUM, CPU_PER, RAM_PER, POD_STATE])\n",
    "cpu_data_arr = np.transpose(np.array([data_pd[POD_STATE], data_pd[CPU_PER]]))\n",
    "cpu_dict = defaultdict(list)\n",
    "for key, value in cpu_data_arr:\n",
    "    cpu_dict[key].append(value)\n",
    "cpu_mean_dic = defaultdict(list)\n",
    "for key, value in cpu_dict.items():\n",
    "    cpu_mean_dic[key].append(sum(value)/len(value))\n",
    "print(cpu_mean_dic)"
   ]
  },
  {
   "cell_type": "code",
   "execution_count": 8,
   "metadata": {},
   "outputs": [],
   "source": [
    "# CPU DATA\n",
    "cpu_data_optimize = []\n",
    "cpu_data_optimize.append([\"status\",\"mean\"])\n",
    "for key, value in cpu_mean_dic.items():\n",
    "    cpu_data_optimize.append([key,value[0]])\n",
    "pd.DataFrame(cpu_data_optimize).to_csv(\"demo.csv\")"
   ]
  }
 ],
 "metadata": {
  "kernelspec": {
   "display_name": "Python 3.10.1 64-bit (system)",
   "language": "python",
   "name": "python3"
  },
  "language_info": {
   "codemirror_mode": {
    "name": "ipython",
    "version": 3
   },
   "file_extension": ".py",
   "mimetype": "text/x-python",
   "name": "python",
   "nbconvert_exporter": "python",
   "pygments_lexer": "ipython3",
   "version": "3.10.1"
  },
  "orig_nbformat": 4,
  "vscode": {
   "interpreter": {
    "hash": "785c145759310d2c13bd13a4a06a39857802a631c4d6f00bbb77353e78fb2218"
   }
  }
 },
 "nbformat": 4,
 "nbformat_minor": 2
}
